{
 "cells": [
  {
   "cell_type": "markdown",
   "metadata": {},
   "source": [
    "# **Finding Lane Lines on the Road** \n",
    "\n",
    "## Writeup Template\n",
    "\n",
    "### You can use this file as a template for your writeup if you want to submit it as a markdown file. But feel free to use some other method and submit a pdf if you prefer.\n",
    "\n",
    "---\n",
    "\n",
    "**Finding Lane Lines on the Road**\n",
    "\n",
    "The goals / steps of this project are the following:\n",
    "* Make a pipeline that finds lane lines on the road\n",
    "* Reflect on your work in a written report\n",
    "\n",
    "\n",
    "![caption](./examples/grayscale.jpg)\n",
    "\n",
    "\n",
    "---\n",
    "\n",
    "### Reflection\n",
    "\n",
    "### 1. Describe your pipeline. As part of the description, explain how you modified the draw_lines() function.\n",
    "\n",
    "My pipeline consisted of 5 steps. \n",
    "- converted the images to grayscale\n",
    "- blur the image to erase some unnecessary detail of the image\n",
    "- fetch the points of interest since the lane lines will only appear in the buttom-center of an image.\n",
    "- using hough line detection to fetch the fetch the lines in eadge graph.\n",
    "- stack the extracted line onto original image.\n",
    "\n",
    "\n",
    "In order to draw a single line on the left and right lanes, I modified the draw_lines() function by \n",
    "- Seperate the lines into 2 groups, positive slope and negitive slope.\n",
    "- Calculate the slope and bias for each group, ignore those lines which absolute value of each slope not in (0.3, 10/3)\n",
    "- Calculate median of lines in each group.\n",
    "\n",
    "![sample result](./test_images_output/solidWhiteCurve.jpg)\n",
    "\n",
    "\n",
    "### 2. Identify potential shortcomings with your current pipeline\n",
    "\n",
    "\n",
    "One potential shortcoming would be the lane line detection is not very stable in a video.\n",
    "\n",
    "Another shortcoming could be this pipeline is easy to be affected by noises(light, tree, cars, etc)\n",
    "\n",
    "\n",
    "\n",
    "### 3. Suggest possible improvements to your pipeline\n",
    "\n",
    "A possible improvement would be to introduce a momentum to the lane line among adjacent frames to prevent it from sudden movement. \n",
    "\n",
    "Another potential improvement could be to fine tune the parameter of canny edge detection, hough transformation to further rule out noises based on more data, diffent road, different light condition, etc."
   ]
  }
 ],
 "metadata": {
  "kernelspec": {
   "display_name": "udacity",
   "language": "python",
   "name": "udacity"
  },
  "language_info": {
   "codemirror_mode": {
    "name": "ipython",
    "version": 3
   },
   "file_extension": ".py",
   "mimetype": "text/x-python",
   "name": "python",
   "nbconvert_exporter": "python",
   "pygments_lexer": "ipython3",
   "version": "3.6.5"
  }
 },
 "nbformat": 4,
 "nbformat_minor": 2
}
